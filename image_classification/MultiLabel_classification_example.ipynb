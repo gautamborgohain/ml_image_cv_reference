{
 "cells": [
  {
   "cell_type": "markdown",
   "metadata": {},
   "source": [
    "# Multi-Label dataset model training"
   ]
  },
  {
   "cell_type": "markdown",
   "metadata": {},
   "source": [
    "Fine-tune training of the ResNet 50 with data augmentation and fine-tuning \n",
    "\n",
    "I am using fastai library, this notebook also includes some exploration into training and reverts, so refer to the summary for the final training procdure\n",
    "\n",
    "## Summary of the training steps:\n",
    "-   Start with a standard image size - 256 This is larger than standard image size for ResNet50, but we wanted to get a faster initial tuning of the model to our images.\n",
    "-   Freeze all but the custom head. We use a custom head that Average + Max concatenates the outputs of the convolutional layers and feeds to two densely connected layers with ReLu activations.\n",
    "-   Train with a fixed learning rate (lr) for 3 epochs\n",
    "-   One cycle training policy Set max lr and resume training for 2 more epochs \n",
    "-   At this step our validation loss decreases to 0.11 and the mean f1 score is 0.88\n",
    "-   Increase Image size to 299 We do this to add more detail and tuning of the network\n",
    "-   Train with one cycle for 2 epochs\n",
    "-   Decrease Image size to 224 reducing the image size correct any overfitting and stabilizes the model\n",
    "-   Train with one cycle for 2 epochs with a reduced lr\n",
    "-   Unfreeze the reset of the layers and train and use differential learning rate for different layers in the network\n",
    "-   This decrease our loss to 0.08 and increase macro f1 score to 0.90\n"
   ]
  },
  {
   "cell_type": "markdown",
   "metadata": {},
   "source": [
    "## Evaluation \n",
    "\n",
    "The evaluation metric we used is the Mean F1 score. The F1 score, commonly used in information retrieval, measures accuracy using the statistics precision p and recall r.  Precision is the ratio of true positives (tp) to all predicted positives (tp + fp). Recall is the ratio of true positives to all actual positives (tp + fn). The F1 score is given by:\n",
    "\n",
    "$F1 = 2\\frac{P.R}{P+R}$ where $P = \\frac{tp}{tp+fp}, R = \\frac{tp}{tp+fn}$\n",
    "\n",
    "\n",
    "The F1 metric weights recall and precision equally, and a good retrieval algorithm will maximize both precision and recall simultaneously. Thus, moderately good performance on both will be favored over extremely good performance on one and poor performance on the other.\n",
    "\n",
    "Mean F1 score will be the average F1 score group by classes, giving each class an equal weight (macro - f1).\n",
    "\n",
    "$Mean F1 = Average(F1_{class=1}, F1_{class=2}, ..... F1_{class=n})$\n",
    "\n"
   ]
  },
  {
   "cell_type": "markdown",
   "metadata": {},
   "source": [
    "## Imports"
   ]
  },
  {
   "cell_type": "code",
   "execution_count": 1,
   "metadata": {},
   "outputs": [
    {
     "name": "stderr",
     "output_type": "stream",
     "text": [
      "/root/anaconda3/envs/pers_d_fastai/lib/python3.6/importlib/_bootstrap.py:219: RuntimeWarning: numpy.dtype size changed, may indicate binary incompatibility. Expected 96, got 88\n",
      "  return f(*args, **kwds)\n",
      "/root/anaconda3/envs/pers_d_fastai/lib/python3.6/importlib/_bootstrap.py:219: RuntimeWarning: numpy.dtype size changed, may indicate binary incompatibility. Expected 96, got 88\n",
      "  return f(*args, **kwds)\n"
     ]
    }
   ],
   "source": [
    "import pandas as pd\n",
    "from glob import glob\n",
    "from pathlib import Path\n",
    "from tqdm import tqdm\n",
    "\n",
    "path = Path('/home/image_tagging')"
   ]
  },
  {
   "cell_type": "markdown",
   "metadata": {},
   "source": [
    "## Data labels preview"
   ]
  },
  {
   "cell_type": "code",
   "execution_count": 2,
   "metadata": {},
   "outputs": [
    {
     "data": {
      "text/plain": [
       "(41889, 2)"
      ]
     },
     "execution_count": 2,
     "metadata": {},
     "output_type": "execute_result"
    }
   ],
   "source": [
    "gt = pd.read_csv(path/'data/groundtruth_new_20180116_v2.csv')\n",
    "gt.shape"
   ]
  },
  {
   "cell_type": "code",
   "execution_count": 3,
   "metadata": {},
   "outputs": [
    {
     "data": {
      "text/html": [
       "<div>\n",
       "<style scoped>\n",
       "    .dataframe tbody tr th:only-of-type {\n",
       "        vertical-align: middle;\n",
       "    }\n",
       "\n",
       "    .dataframe tbody tr th {\n",
       "        vertical-align: top;\n",
       "    }\n",
       "\n",
       "    .dataframe thead th {\n",
       "        text-align: right;\n",
       "    }\n",
       "</style>\n",
       "<table border=\"1\" class=\"dataframe\">\n",
       "  <thead>\n",
       "    <tr style=\"text-align: right;\">\n",
       "      <th></th>\n",
       "      <th>images_id</th>\n",
       "      <th>labels</th>\n",
       "    </tr>\n",
       "  </thead>\n",
       "  <tbody>\n",
       "    <tr>\n",
       "      <th>0</th>\n",
       "      <td>10013061.jpg</td>\n",
       "      <td>face text</td>\n",
       "    </tr>\n",
       "    <tr>\n",
       "      <th>1</th>\n",
       "      <td>10034668.jpg</td>\n",
       "      <td>text</td>\n",
       "    </tr>\n",
       "    <tr>\n",
       "      <th>2</th>\n",
       "      <td>10036850.jpg</td>\n",
       "      <td>text</td>\n",
       "    </tr>\n",
       "    <tr>\n",
       "      <th>3</th>\n",
       "      <td>10037491.jpg</td>\n",
       "      <td>property</td>\n",
       "    </tr>\n",
       "    <tr>\n",
       "      <th>4</th>\n",
       "      <td>10037530.jpg</td>\n",
       "      <td>collaged</td>\n",
       "    </tr>\n",
       "  </tbody>\n",
       "</table>\n",
       "</div>"
      ],
      "text/plain": [
       "      images_id     labels\n",
       "0  10013061.jpg  face text\n",
       "1  10034668.jpg       text\n",
       "2  10036850.jpg       text\n",
       "3  10037491.jpg   property\n",
       "4  10037530.jpg   collaged"
      ]
     },
     "execution_count": 3,
     "metadata": {},
     "output_type": "execute_result"
    }
   ],
   "source": [
    "gt.head()"
   ]
  },
  {
   "cell_type": "code",
   "execution_count": 4,
   "metadata": {},
   "outputs": [],
   "source": [
    "train_gt = gt.sample(frac=0.70)"
   ]
  },
  {
   "cell_type": "code",
   "execution_count": 5,
   "metadata": {},
   "outputs": [
    {
     "data": {
      "text/plain": [
       "((29322, 2), (12567, 2))"
      ]
     },
     "execution_count": 5,
     "metadata": {},
     "output_type": "execute_result"
    }
   ],
   "source": [
    "val_gt = gt[~gt.index.isin(train_gt.index)]\n",
    "train_gt.shape, val_gt.shape"
   ]
  },
  {
   "cell_type": "markdown",
   "metadata": {},
   "source": [
    "### Train and holdout set prep\n",
    "\n",
    "Setting aside 30% as holdout set , will be doing train -test split on the remaining 70% for model tuning"
   ]
  },
  {
   "cell_type": "code",
   "execution_count": 7,
   "metadata": {},
   "outputs": [],
   "source": [
    "train_gt.to_csv(path/'data/groundtruth_new_20180116_v2_train.csv', index=False)\n",
    "val_gt.to_csv(path/'data/groundtruth_new_20180116_v2_val.csv', index=False)"
   ]
  },
  {
   "cell_type": "code",
   "execution_count": 41,
   "metadata": {},
   "outputs": [
    {
     "data": {
      "text/plain": [
       "(12567, 2)"
      ]
     },
     "execution_count": 41,
     "metadata": {},
     "output_type": "execute_result"
    }
   ],
   "source": [
    "val_gt = pd.read_csv(path/'data/groundtruth_new_20180116_v2_val.csv')\n",
    "val_gt.shape"
   ]
  },
  {
   "cell_type": "markdown",
   "metadata": {},
   "source": [
    "## Exp"
   ]
  },
  {
   "cell_type": "code",
   "execution_count": 2,
   "metadata": {},
   "outputs": [],
   "source": [
    "from fastai.vision import *"
   ]
  },
  {
   "cell_type": "code",
   "execution_count": 76,
   "metadata": {},
   "outputs": [
    {
     "data": {
      "text/plain": [
       "([RandTransform(tfm=TfmCrop (crop_pad), kwargs={'row_pct': (0, 1), 'col_pct': (0, 1), 'padding_mode': 'reflection'}, p=1.0, resolved={}, do_run=True, is_random=True),\n",
       "  RandTransform(tfm=TfmAffine (dihedral_affine), kwargs={}, p=1.0, resolved={}, do_run=True, is_random=True),\n",
       "  RandTransform(tfm=TfmCoord (symmetric_warp), kwargs={'magnitude': (-0.2, 0.2)}, p=0.75, resolved={}, do_run=True, is_random=True),\n",
       "  RandTransform(tfm=TfmAffine (rotate), kwargs={'degrees': (-10.0, 10.0)}, p=0.75, resolved={}, do_run=True, is_random=True),\n",
       "  RandTransform(tfm=TfmAffine (zoom), kwargs={'scale': (1.0, 1.05), 'row_pct': (0, 1), 'col_pct': (0, 1)}, p=0.75, resolved={}, do_run=True, is_random=True),\n",
       "  RandTransform(tfm=TfmLighting (brightness), kwargs={'change': (0.45, 0.55)}, p=0.75, resolved={}, do_run=True, is_random=True),\n",
       "  RandTransform(tfm=TfmLighting (contrast), kwargs={'scale': (0.9, 1.1111111111111112)}, p=0.75, resolved={}, do_run=True, is_random=True)],\n",
       " [RandTransform(tfm=TfmCrop (crop_pad), kwargs={}, p=1.0, resolved={}, do_run=True, is_random=True)])"
      ]
     },
     "execution_count": 76,
     "metadata": {},
     "output_type": "execute_result"
    }
   ],
   "source": [
    "tfms = get_transforms(flip_vert=True, max_lighting=0.1, max_zoom=1.05, max_warp=0.2)\n",
    "# tfms = (tfms[0] + rand_resize_crop(size=256))\n",
    "tfms"
   ]
  },
  {
   "cell_type": "code",
   "execution_count": 80,
   "metadata": {},
   "outputs": [],
   "source": [
    "data = ImageList.from_csv(path = path,\n",
    "                          folder = 'data/moderation_images/small-256',\n",
    "                          csv_name='data/groundtruth_new_20180116_v2_train.csv').split_by_rand_pct(valid_pct=0.2,seed=1).label_from_df(label_delim=' ').transform(tfms=tfms, size=256).databunch()\n"
   ]
  },
  {
   "cell_type": "code",
   "execution_count": 81,
   "metadata": {},
   "outputs": [],
   "source": [
    "holdout = ImageList.from_csv(path = path,\n",
    "                          folder = 'data/moderation_images/small-256',\n",
    "                          csv_name='data/groundtruth_new_20180116_v2_val.csv').split_none().label_from_df(label_delim=' ').transform(tfms=[], size=256,resize_method=ResizeMethod.SQUISH).databunch()\n"
   ]
  },
  {
   "cell_type": "code",
   "execution_count": 70,
   "metadata": {},
   "outputs": [
    {
     "data": {
      "text/plain": [
       "(fastai.basic_data.DeviceDataLoader, fastai.basic_data.DeviceDataLoader)"
      ]
     },
     "execution_count": 70,
     "metadata": {},
     "output_type": "execute_result"
    }
   ],
   "source": [
    "type(data.valid_dl), type(holdout.train_dl)"
   ]
  },
  {
   "cell_type": "code",
   "execution_count": 82,
   "metadata": {},
   "outputs": [
    {
     "data": {
      "text/plain": [
       "['collaged', 'face', 'floorplan', 'map', 'property', 'siteplan', 'text']"
      ]
     },
     "execution_count": 82,
     "metadata": {},
     "output_type": "execute_result"
    }
   ],
   "source": [
    "data.train_ds.y.classes"
   ]
  },
  {
   "cell_type": "code",
   "execution_count": 83,
   "metadata": {},
   "outputs": [
    {
     "data": {
      "text/plain": [
       "{'collaged': 0,\n",
       " 'face': 1,\n",
       " 'floorplan': 2,\n",
       " 'map': 3,\n",
       " 'property': 4,\n",
       " 'siteplan': 5,\n",
       " 'text': 6}"
      ]
     },
     "execution_count": 83,
     "metadata": {},
     "output_type": "execute_result"
    }
   ],
   "source": [
    "data.valid_ds.y.c2i"
   ]
  },
  {
   "cell_type": "code",
   "execution_count": 84,
   "metadata": {},
   "outputs": [
    {
     "name": "stdout",
     "output_type": "stream",
     "text": [
      "32\n"
     ]
    }
   ],
   "source": [
    "data.batch_size = 32\n",
    "print(data.batch_size)"
   ]
  },
  {
   "cell_type": "markdown",
   "metadata": {},
   "source": [
    "### Train - 256"
   ]
  },
  {
   "cell_type": "code",
   "execution_count": 85,
   "metadata": {},
   "outputs": [],
   "source": [
    "learn = cnn_learner(data=data,\n",
    "                   base_arch=models.resnet50,\n",
    "                   pretrained=True,\n",
    "                   metrics=fbeta\n",
    "                  )"
   ]
  },
  {
   "cell_type": "code",
   "execution_count": 86,
   "metadata": {},
   "outputs": [
    {
     "data": {
      "text/html": [],
      "text/plain": [
       "<IPython.core.display.HTML object>"
      ]
     },
     "metadata": {},
     "output_type": "display_data"
    },
    {
     "name": "stdout",
     "output_type": "stream",
     "text": [
      "LR Finder is complete, type {learner_name}.recorder.plot() to see the graph.\n"
     ]
    }
   ],
   "source": [
    "learn.lr_find(start_lr=1e-07,end_lr=1,num_it=100)"
   ]
  },
  {
   "cell_type": "code",
   "execution_count": 87,
   "metadata": {},
   "outputs": [
    {
     "data": {
      "image/png": "[encoded data removed]",
      "text/plain": [
       "<Figure size 432x288 with 1 Axes>"
      ]
     },
     "metadata": {
      "needs_background": "light"
     },
     "output_type": "display_data"
    }
   ],
   "source": [
    "learn.recorder.plot()"
   ]
  },
  {
   "cell_type": "code",
   "execution_count": 88,
   "metadata": {},
   "outputs": [
    {
     "data": {
      "text/html": [
       "Total time: 08:57 <p><table border=\"1\" class=\"dataframe\">\n",
       "  <thead>\n",
       "    <tr style=\"text-align: left;\">\n",
       "      <th>epoch</th>\n",
       "      <th>train_loss</th>\n",
       "      <th>valid_loss</th>\n",
       "      <th>fbeta</th>\n",
       "      <th>time</th>\n",
       "    </tr>\n",
       "  </thead>\n",
       "  <tbody>\n",
       "    <tr>\n",
       "      <td>0</td>\n",
       "      <td>0.174187</td>\n",
       "      <td>0.198502</td>\n",
       "      <td>0.812061</td>\n",
       "      <td>02:57</td>\n",
       "    </tr>\n",
       "    <tr>\n",
       "      <td>1</td>\n",
       "      <td>0.173502</td>\n",
       "      <td>0.163840</td>\n",
       "      <td>0.858567</td>\n",
       "      <td>03:00</td>\n",
       "    </tr>\n",
       "    <tr>\n",
       "      <td>2</td>\n",
       "      <td>0.156937</td>\n",
       "      <td>0.145694</td>\n",
       "      <td>0.873941</td>\n",
       "      <td>02:59</td>\n",
       "    </tr>\n",
       "  </tbody>\n",
       "</table>"
      ],
      "text/plain": [
       "<IPython.core.display.HTML object>"
      ]
     },
     "metadata": {},
     "output_type": "display_data"
    }
   ],
   "source": [
    "learn.fit(3, lr=1e-02)"
   ]
  },
  {
   "cell_type": "code",
   "execution_count": 89,
   "metadata": {},
   "outputs": [
    {
     "data": {
      "text/html": [
       "Total time: 05:57 <p><table border=\"1\" class=\"dataframe\">\n",
       "  <thead>\n",
       "    <tr style=\"text-align: left;\">\n",
       "      <th>epoch</th>\n",
       "      <th>train_loss</th>\n",
       "      <th>valid_loss</th>\n",
       "      <th>fbeta</th>\n",
       "      <th>time</th>\n",
       "    </tr>\n",
       "  </thead>\n",
       "  <tbody>\n",
       "    <tr>\n",
       "      <td>0</td>\n",
       "      <td>0.158229</td>\n",
       "      <td>0.127337</td>\n",
       "      <td>0.888075</td>\n",
       "      <td>02:57</td>\n",
       "    </tr>\n",
       "    <tr>\n",
       "      <td>1</td>\n",
       "      <td>0.129751</td>\n",
       "      <td>0.112652</td>\n",
       "      <td>0.900893</td>\n",
       "      <td>02:59</td>\n",
       "    </tr>\n",
       "  </tbody>\n",
       "</table>"
      ],
      "text/plain": [
       "<IPython.core.display.HTML object>"
      ]
     },
     "metadata": {},
     "output_type": "display_data"
    }
   ],
   "source": [
    "learn.fit_one_cycle(cyc_len=2, max_lr=1e-02)"
   ]
  },
  {
   "cell_type": "code",
   "execution_count": 90,
   "metadata": {},
   "outputs": [],
   "source": [
    "preds,y = learn.get_preds(DatasetType.Valid, with_loss=False)"
   ]
  },
  {
   "cell_type": "code",
   "execution_count": 91,
   "metadata": {},
   "outputs": [
    {
     "data": {
      "text/plain": [
       "ImageList (5864 items)\n",
       "Image (3, 256, 362),Image (3, 256, 307),Image (3, 256, 341),Image (3, 256, 384),Image (3, 256, 384)\n",
       "Path: /home/image_tagging"
      ]
     },
     "execution_count": 91,
     "metadata": {},
     "output_type": "execute_result"
    }
   ],
   "source": [
    "learn.data.valid_ds.x"
   ]
  },
  {
   "cell_type": "code",
   "execution_count": 92,
   "metadata": {},
   "outputs": [
    {
     "name": "stdout",
     "output_type": "stream",
     "text": [
      "0.8795028584421491\n",
      "              precision    recall  f1-score   support\n",
      "\n",
      "           0       0.84      0.66      0.74       497\n",
      "           1       0.90      0.79      0.84       729\n",
      "           2       0.97      0.96      0.96       508\n",
      "           3       0.96      0.86      0.91       335\n",
      "           4       0.88      0.93      0.90      2231\n",
      "           5       0.92      0.85      0.88       179\n",
      "           6       0.92      0.85      0.88      2960\n",
      "\n",
      "   micro avg       0.90      0.86      0.88      7439\n",
      "   macro avg       0.91      0.84      0.87      7439\n",
      "weighted avg       0.90      0.86      0.88      7439\n",
      " samples avg       0.90      0.88      0.88      7439\n",
      "\n"
     ]
    },
    {
     "name": "stderr",
     "output_type": "stream",
     "text": [
      "/root/anaconda3/envs/pers_d_fastai/lib/python3.6/site-packages/sklearn/metrics/classification.py:1143: UndefinedMetricWarning: F-score is ill-defined and being set to 0.0 in samples with no predicted labels.\n",
      "  'precision', 'predicted', average, warn_for)\n",
      "/root/anaconda3/envs/pers_d_fastai/lib/python3.6/site-packages/sklearn/metrics/classification.py:1143: UndefinedMetricWarning: Precision and F-score are ill-defined and being set to 0.0 in samples with no predicted labels.\n",
      "  'precision', 'predicted', average, warn_for)\n"
     ]
    }
   ],
   "source": [
    "from sklearn.metrics import f1_score, classification_report\n",
    "preds_w_thres = [[1.0 if v>=0.5 else 0.0 for v in pred] for pred in preds]\n",
    "# val_y_ = [[1 if i in pred else 0 for i in range(0,7)] for pred in data.valid_ds.y.items]\n",
    "val_y_ = y\n",
    "print(f1_score(np.array(val_y_), np.array(preds_w_thres), average='samples'))\n",
    "print(classification_report(np.array(val_y_), np.array(preds_w_thres)))"
   ]
  },
  {
   "cell_type": "code",
   "execution_count": 93,
   "metadata": {},
   "outputs": [
    {
     "data": {
      "text/html": [
       "Total time: 05:58 <p><table border=\"1\" class=\"dataframe\">\n",
       "  <thead>\n",
       "    <tr style=\"text-align: left;\">\n",
       "      <th>epoch</th>\n",
       "      <th>train_loss</th>\n",
       "      <th>valid_loss</th>\n",
       "      <th>fbeta</th>\n",
       "      <th>time</th>\n",
       "    </tr>\n",
       "  </thead>\n",
       "  <tbody>\n",
       "    <tr>\n",
       "      <td>0</td>\n",
       "      <td>0.152035</td>\n",
       "      <td>0.138315</td>\n",
       "      <td>0.881829</td>\n",
       "      <td>02:58</td>\n",
       "    </tr>\n",
       "    <tr>\n",
       "      <td>1</td>\n",
       "      <td>0.130707</td>\n",
       "      <td>0.108255</td>\n",
       "      <td>0.904602</td>\n",
       "      <td>03:00</td>\n",
       "    </tr>\n",
       "  </tbody>\n",
       "</table>"
      ],
      "text/plain": [
       "<IPython.core.display.HTML object>"
      ]
     },
     "metadata": {},
     "output_type": "display_data"
    }
   ],
   "source": [
    "learn.fit_one_cycle(cyc_len=2, max_lr=1e-02)"
   ]
  },
  {
   "cell_type": "code",
   "execution_count": 94,
   "metadata": {},
   "outputs": [],
   "source": [
    "preds,y = learn.get_preds(DatasetType.Valid, with_loss=False)"
   ]
  },
  {
   "cell_type": "code",
   "execution_count": 96,
   "metadata": {},
   "outputs": [
    {
     "name": "stdout",
     "output_type": "stream",
     "text": [
      "0.885227051257065\n",
      "              precision    recall  f1-score   support\n",
      "\n",
      "           0       0.84      0.71      0.77       497\n",
      "           1       0.87      0.84      0.86       729\n",
      "           2       0.96      0.97      0.97       508\n",
      "           3       0.94      0.89      0.91       335\n",
      "           4       0.87      0.95      0.91      2231\n",
      "           5       0.94      0.83      0.88       179\n",
      "           6       0.93      0.84      0.88      2960\n",
      "\n",
      "   micro avg       0.90      0.87      0.89      7439\n",
      "   macro avg       0.91      0.86      0.88      7439\n",
      "weighted avg       0.90      0.87      0.89      7439\n",
      " samples avg       0.90      0.89      0.89      7439\n",
      "\n"
     ]
    },
    {
     "name": "stderr",
     "output_type": "stream",
     "text": [
      "/root/anaconda3/envs/pers_d_fastai/lib/python3.6/site-packages/sklearn/metrics/classification.py:1143: UndefinedMetricWarning: F-score is ill-defined and being set to 0.0 in samples with no predicted labels.\n",
      "  'precision', 'predicted', average, warn_for)\n",
      "/root/anaconda3/envs/pers_d_fastai/lib/python3.6/site-packages/sklearn/metrics/classification.py:1143: UndefinedMetricWarning: Precision and F-score are ill-defined and being set to 0.0 in samples with no predicted labels.\n",
      "  'precision', 'predicted', average, warn_for)\n"
     ]
    }
   ],
   "source": [
    "from sklearn.metrics import f1_score, classification_report\n",
    "preds_w_thres = [[1.0 if v>=0.5 else 0.0 for v in pred] for pred in preds]\n",
    "# val_y_ = [[1 if i in pred else 0 for i in range(0,7)] for pred in data.valid_ds.y.items]\n",
    "val_y_ = y\n",
    "print(f1_score(np.array(val_y_), np.array(preds_w_thres), average='samples'))\n",
    "print(classification_report(np.array(val_y_), np.array(preds_w_thres)))"
   ]
  },
  {
   "cell_type": "code",
   "execution_count": 97,
   "metadata": {},
   "outputs": [],
   "source": [
    "learn.save('resnet50a_256_ckpt_1')"
   ]
  },
  {
   "cell_type": "code",
   "execution_count": 125,
   "metadata": {},
   "outputs": [],
   "source": [
    "torch.save(learn.model.state_dict(), open('../models/resnet50a_256_ckpt_1_sd.model', 'wb'))"
   ]
  },
  {
   "cell_type": "markdown",
   "metadata": {},
   "source": [
    "### Increase the image size to 299"
   ]
  },
  {
   "cell_type": "code",
   "execution_count": 131,
   "metadata": {},
   "outputs": [],
   "source": [
    "data_all = ImageList.from_csv(path = path,\n",
    "                          folder = 'data/moderation_images/all_images',\n",
    "                          csv_name='data/groundtruth_new_20180116_v2_train.csv').split_by_rand_pct(valid_pct=0.2,seed=1).label_from_df(label_delim=' ').transform(tfms=tfms, size=299).databunch()\n"
   ]
  },
  {
   "cell_type": "code",
   "execution_count": 132,
   "metadata": {},
   "outputs": [
    {
     "data": {
      "text/plain": [
       "{'collaged': 0,\n",
       " 'face': 1,\n",
       " 'floorplan': 2,\n",
       " 'map': 3,\n",
       " 'property': 4,\n",
       " 'siteplan': 5,\n",
       " 'text': 6}"
      ]
     },
     "execution_count": 132,
     "metadata": {},
     "output_type": "execute_result"
    }
   ],
   "source": [
    "data_all.valid_ds.y.c2i"
   ]
  },
  {
   "cell_type": "code",
   "execution_count": 133,
   "metadata": {},
   "outputs": [],
   "source": [
    "data_all.batch_size = 32\n",
    "learn.data = data_all"
   ]
  },
  {
   "cell_type": "code",
   "execution_count": 134,
   "metadata": {},
   "outputs": [
    {
     "data": {
      "text/html": [
       "Total time: 15:18 <p><table border=\"1\" class=\"dataframe\">\n",
       "  <thead>\n",
       "    <tr style=\"text-align: left;\">\n",
       "      <th>epoch</th>\n",
       "      <th>train_loss</th>\n",
       "      <th>valid_loss</th>\n",
       "      <th>fbeta</th>\n",
       "      <th>time</th>\n",
       "    </tr>\n",
       "  </thead>\n",
       "  <tbody>\n",
       "    <tr>\n",
       "      <td>0</td>\n",
       "      <td>0.139476</td>\n",
       "      <td>0.116423</td>\n",
       "      <td>0.898815</td>\n",
       "      <td>08:04</td>\n",
       "    </tr>\n",
       "    <tr>\n",
       "      <td>1</td>\n",
       "      <td>0.117179</td>\n",
       "      <td>0.111286</td>\n",
       "      <td>0.913620</td>\n",
       "      <td>07:13</td>\n",
       "    </tr>\n",
       "  </tbody>\n",
       "</table>"
      ],
      "text/plain": [
       "<IPython.core.display.HTML object>"
      ]
     },
     "metadata": {},
     "output_type": "display_data"
    }
   ],
   "source": [
    "learn.fit_one_cycle(cyc_len=2, max_lr=1e-02)"
   ]
  },
  {
   "cell_type": "code",
   "execution_count": 135,
   "metadata": {},
   "outputs": [
    {
     "data": {
      "text/html": [
       "Total time: 07:21 <p><table border=\"1\" class=\"dataframe\">\n",
       "  <thead>\n",
       "    <tr style=\"text-align: left;\">\n",
       "      <th>epoch</th>\n",
       "      <th>train_loss</th>\n",
       "      <th>valid_loss</th>\n",
       "      <th>fbeta</th>\n",
       "      <th>time</th>\n",
       "    </tr>\n",
       "  </thead>\n",
       "  <tbody>\n",
       "    <tr>\n",
       "      <td>0</td>\n",
       "      <td>0.115861</td>\n",
       "      <td>0.100191</td>\n",
       "      <td>0.914752</td>\n",
       "      <td>07:21</td>\n",
       "    </tr>\n",
       "  </tbody>\n",
       "</table>"
      ],
      "text/plain": [
       "<IPython.core.display.HTML object>"
      ]
     },
     "metadata": {},
     "output_type": "display_data"
    }
   ],
   "source": [
    "learn.fit_one_cycle(cyc_len=1, max_lr=1e-02)"
   ]
  },
  {
   "cell_type": "code",
   "execution_count": 136,
   "metadata": {},
   "outputs": [
    {
     "name": "stdout",
     "output_type": "stream",
     "text": [
      "0.8951179107386475\n",
      "              precision    recall  f1-score   support\n",
      "\n",
      "           0       0.90      0.67      0.77       497\n",
      "           1       0.95      0.79      0.86       729\n",
      "           2       0.95      0.98      0.96       508\n",
      "           3       0.96      0.88      0.92       335\n",
      "           4       0.90      0.93      0.91      2231\n",
      "           5       0.96      0.84      0.90       179\n",
      "           6       0.92      0.88      0.90      2960\n",
      "\n",
      "   micro avg       0.92      0.87      0.90      7439\n",
      "   macro avg       0.93      0.85      0.89      7439\n",
      "weighted avg       0.92      0.87      0.90      7439\n",
      " samples avg       0.91      0.89      0.90      7439\n",
      "\n"
     ]
    },
    {
     "name": "stderr",
     "output_type": "stream",
     "text": [
      "/root/anaconda3/envs/pers_d_fastai/lib/python3.6/site-packages/sklearn/metrics/classification.py:1143: UndefinedMetricWarning: F-score is ill-defined and being set to 0.0 in samples with no predicted labels.\n",
      "  'precision', 'predicted', average, warn_for)\n",
      "/root/anaconda3/envs/pers_d_fastai/lib/python3.6/site-packages/sklearn/metrics/classification.py:1143: UndefinedMetricWarning: Precision and F-score are ill-defined and being set to 0.0 in samples with no predicted labels.\n",
      "  'precision', 'predicted', average, warn_for)\n"
     ]
    }
   ],
   "source": [
    "preds,y = learn.get_preds(DatasetType.Valid, with_loss=False)\n",
    "preds_w_thres = [[1.0 if v>=0.5 else 0.0 for v in pred] for pred in preds]\n",
    "# val_y_ = [[1 if i in pred else 0 for i in range(0,7)] for pred in data.valid_ds.y.items]\n",
    "val_y_ = y\n",
    "print(f1_score(np.array(val_y_), np.array(preds_w_thres), average='samples'))\n",
    "print(classification_report(np.array(val_y_), np.array(preds_w_thres)))"
   ]
  },
  {
   "cell_type": "code",
   "execution_count": 137,
   "metadata": {},
   "outputs": [
    {
     "data": {
      "text/html": [
       "Total time: 07:08 <p><table border=\"1\" class=\"dataframe\">\n",
       "  <thead>\n",
       "    <tr style=\"text-align: left;\">\n",
       "      <th>epoch</th>\n",
       "      <th>train_loss</th>\n",
       "      <th>valid_loss</th>\n",
       "      <th>fbeta</th>\n",
       "      <th>time</th>\n",
       "    </tr>\n",
       "  </thead>\n",
       "  <tbody>\n",
       "    <tr>\n",
       "      <td>0</td>\n",
       "      <td>0.116395</td>\n",
       "      <td>0.097752</td>\n",
       "      <td>0.915702</td>\n",
       "      <td>07:08</td>\n",
       "    </tr>\n",
       "  </tbody>\n",
       "</table>"
      ],
      "text/plain": [
       "<IPython.core.display.HTML object>"
      ]
     },
     "metadata": {},
     "output_type": "display_data"
    }
   ],
   "source": [
    "learn.fit_one_cycle(cyc_len=1, max_lr=1e-03)"
   ]
  },
  {
   "cell_type": "code",
   "execution_count": 138,
   "metadata": {},
   "outputs": [
    {
     "name": "stdout",
     "output_type": "stream",
     "text": [
      "0.8986536087832132\n",
      "              precision    recall  f1-score   support\n",
      "\n",
      "           0       0.90      0.66      0.76       497\n",
      "           1       0.96      0.78      0.86       729\n",
      "           2       0.97      0.96      0.97       508\n",
      "           3       0.95      0.88      0.92       335\n",
      "           4       0.88      0.97      0.92      2231\n",
      "           5       0.92      0.89      0.90       179\n",
      "           6       0.95      0.84      0.89      2960\n",
      "\n",
      "   micro avg       0.92      0.87      0.90      7439\n",
      "   macro avg       0.93      0.85      0.89      7439\n",
      "weighted avg       0.93      0.87      0.90      7439\n",
      " samples avg       0.92      0.89      0.90      7439\n",
      "\n"
     ]
    }
   ],
   "source": [
    "preds,y = learn.get_preds(DatasetType.Valid, with_loss=False)\n",
    "preds_w_thres = [[1.0 if v>=0.5 else 0.0 for v in pred] for pred in preds]\n",
    "val_y_ = y\n",
    "print(f1_score(np.array(val_y_), np.array(preds_w_thres), average='samples'))\n",
    "print(classification_report(np.array(val_y_), np.array(preds_w_thres)))"
   ]
  },
  {
   "cell_type": "code",
   "execution_count": 143,
   "metadata": {},
   "outputs": [],
   "source": [
    "learn.data.valid_dl = holdout.train_dl"
   ]
  },
  {
   "cell_type": "code",
   "execution_count": 144,
   "metadata": {},
   "outputs": [
    {
     "name": "stdout",
     "output_type": "stream",
     "text": [
      "0.877702487244898\n",
      "              precision    recall  f1-score   support\n",
      "\n",
      "           0       0.68      0.77      0.72      1030\n",
      "           1       0.98      0.84      0.91      1560\n",
      "           2       0.99      0.95      0.97      1114\n",
      "           3       0.94      0.87      0.90       664\n",
      "           4       0.87      0.95      0.91      4890\n",
      "           5       0.89      0.84      0.86       370\n",
      "           6       0.94      0.80      0.87      6209\n",
      "\n",
      "   micro avg       0.90      0.86      0.88     15837\n",
      "   macro avg       0.90      0.86      0.88     15837\n",
      "weighted avg       0.91      0.86      0.88     15837\n",
      " samples avg       0.89      0.88      0.88     15837\n",
      "\n"
     ]
    },
    {
     "name": "stderr",
     "output_type": "stream",
     "text": [
      "/root/anaconda3/envs/pers_d_fastai/lib/python3.6/site-packages/sklearn/metrics/classification.py:1143: UndefinedMetricWarning: F-score is ill-defined and being set to 0.0 in samples with no predicted labels.\n",
      "  'precision', 'predicted', average, warn_for)\n",
      "/root/anaconda3/envs/pers_d_fastai/lib/python3.6/site-packages/sklearn/metrics/classification.py:1143: UndefinedMetricWarning: Precision and F-score are ill-defined and being set to 0.0 in samples with no predicted labels.\n",
      "  'precision', 'predicted', average, warn_for)\n"
     ]
    }
   ],
   "source": [
    "preds,y = learn.get_preds(DatasetType.Valid, with_loss=False)\n",
    "preds_w_thres = [[1.0 if v>=0.5 else 0.0 for v in pred] for pred in preds]\n",
    "val_y_ = y\n",
    "print(f1_score(np.array(val_y_), np.array(preds_w_thres), average='samples'))\n",
    "print(classification_report(np.array(val_y_), np.array(preds_w_thres)))"
   ]
  },
  {
   "cell_type": "code",
   "execution_count": 146,
   "metadata": {},
   "outputs": [
    {
     "data": {
      "text/plain": [
       "{'collaged': 0,\n",
       " 'face': 1,\n",
       " 'floorplan': 2,\n",
       " 'map': 3,\n",
       " 'property': 4,\n",
       " 'siteplan': 5,\n",
       " 'text': 6}"
      ]
     },
     "execution_count": 146,
     "metadata": {},
     "output_type": "execute_result"
    }
   ],
   "source": [
    "data.train_ds.y.c2i"
   ]
  },
  {
   "cell_type": "code",
   "execution_count": 139,
   "metadata": {},
   "outputs": [],
   "source": [
    "learn.save('resnet50a_256_ckpt_2')"
   ]
  },
  {
   "cell_type": "code",
   "execution_count": 140,
   "metadata": {},
   "outputs": [],
   "source": [
    "torch.save(learn.model.state_dict(), open('../models/resnet50a_256_ckpt_2_sd.model', 'wb'))"
   ]
  },
  {
   "cell_type": "markdown",
   "metadata": {},
   "source": [
    "### Test on Pytorch\n",
    "\n",
    "The model delveloped using fastai needs to be able to run without it. This is the model for the resnet 50 learner"
   ]
  },
  {
   "cell_type": "code",
   "execution_count": 220,
   "metadata": {},
   "outputs": [],
   "source": [
    "import torch\n",
    "from torch import nn\n",
    "import torchvision.models as models\n",
    "from time import time"
   ]
  },
  {
   "cell_type": "code",
   "execution_count": 221,
   "metadata": {},
   "outputs": [],
   "source": [
    "class AdaptiveConcatPool2d(nn.Module):\n",
    "    \"Layer that concats `AdaptiveAvgPool2d` and `AdaptiveMaxPool2d`.\"\n",
    "    def __init__(self, sz=None):\n",
    "        \"Output will be 2*sz or 2 if sz is None\"\n",
    "        super().__init__()\n",
    "        sz = sz or 1\n",
    "        self.ap,self.mp = nn.AdaptiveAvgPool2d(sz), nn.AdaptiveMaxPool2d(sz)\n",
    "    def forward(self, x): return torch.cat([self.mp(x), self.ap(x)], 1)"
   ]
  },
  {
   "cell_type": "code",
   "execution_count": 222,
   "metadata": {},
   "outputs": [],
   "source": [
    "class Flatten(nn.Module):\n",
    "    \"Flatten `x` to a single dimension, often used at the end of a model. `full` for rank-1 tensor\"\n",
    "    def __init__(self, full:bool=False):\n",
    "        super().__init__()\n",
    "        self.full = full\n",
    "    \n",
    "    def forward(self, x):\n",
    "        return x.view(-1) if self.full else x.view(x.size(0), -1)"
   ]
  },
  {
   "cell_type": "code",
   "execution_count": 223,
   "metadata": {},
   "outputs": [],
   "source": [
    "class Model(nn.Module):\n",
    "    def __init__(self):\n",
    "        super(Model, self).__init__()\n",
    "        base_model = models.resnet50(pretrained=False)\n",
    "        base_model = nn.Sequential(*[m for m in base_model.children()][:-2])\n",
    "        head = nn.Sequential(AdaptiveConcatPool2d(), \n",
    "                Flatten(), \n",
    "                nn.BatchNorm1d(4096, eps=1e-05, momentum=0.1, affine=True),\n",
    "                nn.Dropout(p=0.25),\n",
    "                nn.Linear(in_features=4096, out_features=512, bias=True),\n",
    "                nn.ReLU(inplace=True),\n",
    "                nn.BatchNorm1d(512, eps=1e-05, momentum=0.1, affine=True),\n",
    "                nn.Dropout(p=0.5),\n",
    "                nn.Linear(in_features=512, out_features=7, bias=True))\n",
    "        self.model = nn.Sequential(base_model, head)\n",
    "\n",
    "    def forward(self, x):\n",
    "        x = self.model(x)\n",
    "        return x   \n",
    "        \n",
    "    def load_state_dict(self, *args, **kwargs):\n",
    "        self.model.load_state_dict(torch.load( *args, **kwargs))\n",
    "        \n",
    "    def set_eval(self):\n",
    "        self.model = self.model.eval()\n",
    "        \n",
    "    def to_cpu(self):\n",
    "        self.model = self.model.cpu()\n",
    "        \n",
    "    def predict(self,x):\n",
    "        start = time()\n",
    "        x = x.unsqueeze(0)\n",
    "        out = self.model(*[x])\n",
    "#         print(f'predicted in {time() - start} secs')\n",
    "        out = torch.sigmoid(out)\n",
    "        pred = (out >= 0.5).float()\n",
    "        return (pred, out) "
   ]
  },
  {
   "cell_type": "code",
   "execution_count": 171,
   "metadata": {},
   "outputs": [],
   "source": [
    "model = Model()\n",
    "model.load_state_dict(f='../models/resnet50a_256_ckpt_2_sd.model', map_location='cpu')\n",
    "model.set_eval()"
   ]
  },
  {
   "cell_type": "markdown",
   "metadata": {},
   "source": [
    "### Try using the prediction pipeline code\n",
    "\n",
    "Check the performance using the same code / image processing step that will be used during prediction"
   ]
  },
  {
   "cell_type": "code",
   "execution_count": 148,
   "metadata": {},
   "outputs": [
    {
     "data": {
      "text/html": [
       "<div>\n",
       "<style scoped>\n",
       "    .dataframe tbody tr th:only-of-type {\n",
       "        vertical-align: middle;\n",
       "    }\n",
       "\n",
       "    .dataframe tbody tr th {\n",
       "        vertical-align: top;\n",
       "    }\n",
       "\n",
       "    .dataframe thead th {\n",
       "        text-align: right;\n",
       "    }\n",
       "</style>\n",
       "<table border=\"1\" class=\"dataframe\">\n",
       "  <thead>\n",
       "    <tr style=\"text-align: right;\">\n",
       "      <th></th>\n",
       "      <th>images_id</th>\n",
       "      <th>labels</th>\n",
       "    </tr>\n",
       "  </thead>\n",
       "  <tbody>\n",
       "    <tr>\n",
       "      <th>0</th>\n",
       "      <td>10034668.jpg</td>\n",
       "      <td>text</td>\n",
       "    </tr>\n",
       "    <tr>\n",
       "      <th>1</th>\n",
       "      <td>10038985.jpg</td>\n",
       "      <td>face text collaged</td>\n",
       "    </tr>\n",
       "    <tr>\n",
       "      <th>2</th>\n",
       "      <td>10081770.jpg</td>\n",
       "      <td>face text map</td>\n",
       "    </tr>\n",
       "    <tr>\n",
       "      <th>3</th>\n",
       "      <td>10084298.jpg</td>\n",
       "      <td>collaged</td>\n",
       "    </tr>\n",
       "    <tr>\n",
       "      <th>4</th>\n",
       "      <td>10086384.jpg</td>\n",
       "      <td>text</td>\n",
       "    </tr>\n",
       "  </tbody>\n",
       "</table>\n",
       "</div>"
      ],
      "text/plain": [
       "      images_id              labels\n",
       "0  10034668.jpg                text\n",
       "1  10038985.jpg  face text collaged\n",
       "2  10081770.jpg       face text map\n",
       "3  10084298.jpg            collaged\n",
       "4  10086384.jpg                text"
      ]
     },
     "execution_count": 148,
     "metadata": {},
     "output_type": "execute_result"
    }
   ],
   "source": [
    "valid_df = pd.read_csv('../data/groundtruth_new_20180116_v2_val.csv')\n",
    "valid_df.head()"
   ]
  },
  {
   "cell_type": "code",
   "execution_count": 172,
   "metadata": {},
   "outputs": [
    {
     "data": {
      "text/plain": [
       "(12567, 2)"
      ]
     },
     "execution_count": 172,
     "metadata": {},
     "output_type": "execute_result"
    }
   ],
   "source": [
    "valid_df.shape"
   ]
  },
  {
   "cell_type": "code",
   "execution_count": 183,
   "metadata": {},
   "outputs": [
    {
     "data": {
      "text/html": [
       "\n",
       "    <div>\n",
       "        <style>\n",
       "            /* Turns off some styling */\n",
       "            progress {\n",
       "                /* gets rid of default border in Firefox and Opera. */\n",
       "                border: none;\n",
       "                /* Needs to be in here for Safari polyfill so background images work as expected. */\n",
       "                background-size: auto;\n",
       "            }\n",
       "            .progress-bar-interrupted, .progress-bar-interrupted::-webkit-progress-bar {\n",
       "                background: #F44336;\n",
       "            }\n",
       "        </style>\n",
       "      <progress value='10' class='' max='10', style='width:300px; height:20px; vertical-align: middle;'></progress>\n",
       "      100.00% [10/10 00:02<00:00]\n",
       "    </div>\n",
       "    "
      ],
      "text/plain": [
       "<IPython.core.display.HTML object>"
      ]
     },
     "metadata": {},
     "output_type": "display_data"
    },
    {
     "name": "stdout",
     "output_type": "stream",
     "text": [
      "0.9133333333333333\n",
      "              precision    recall  f1-score   support\n",
      "\n",
      "           0       0.80      1.00      0.89         4\n",
      "           1       1.00      0.50      0.67         2\n",
      "           2       0.00      0.00      0.00         0\n",
      "           3       1.00      1.00      1.00         1\n",
      "           4       1.00      1.00      1.00         1\n",
      "           5       1.00      1.00      1.00         1\n",
      "           6       0.88      1.00      0.93         7\n",
      "\n",
      "   micro avg       0.88      0.94      0.91        16\n",
      "   macro avg       0.81      0.79      0.78        16\n",
      "weighted avg       0.90      0.94      0.90        16\n",
      " samples avg       0.90      0.97      0.91        16\n",
      "\n"
     ]
    }
   ],
   "source": [
    "imgs_path = Path(\"data/moderation_images/all_images\")\n",
    "\n",
    "from PIL import Image\n",
    "from  torchvision import transforms\n",
    "from fastprogress import master_bar, progress_bar\n",
    "\n",
    "def predict_image(model, im_path):\n",
    "    im = Image.open(path/imgs_path/im_path)\n",
    "    im = im.resize((256,256)).convert('RGB')\n",
    "    im = transforms.ToTensor()(im)\n",
    "    pred = model.predict(im)[1] # the confidences\n",
    "    pred = pred.detach().numpy()[0]\n",
    "    return pred\n",
    "    \n",
    "def predict_evaluate(model, df):\n",
    "    \"\"\"\n",
    "    Predict images in df and evaluate against the true labels in df\n",
    "    \"\"\"\n",
    "    preds = [predict_image(model, im_path) for im_path in progress_bar(df.images_id)] \n",
    "    preds_w_thres = [[1.0 if v>=0.5 else 0.0 for v in pred] for pred in preds]\n",
    "    \n",
    "    labels_ord = [\"collaged\", \"face\", \"floorplan\", \"map\", \"property\", \"siteplan\", \"text\"]\n",
    "    def get_one_hot(l):\n",
    "        l = l.split(\" \")\n",
    "        return [1.0 if tl in l else 0.0 for tl in labels_ord] \n",
    "    val_y = df.labels.map(get_one_hot)\n",
    "    val_y = [[float(v) for v in t] for t in val_y]\n",
    "    print(f1_score(np.array(val_y), np.array(preds_w_thres), average='samples'))\n",
    "    print(classification_report(np.array(val_y), np.array(preds_w_thres)))\n",
    "    \n",
    "\n",
    "predict_evaluate(model, valid_df.iloc[0:10])\n",
    "# Image.open(path/imgs_path/valid_df.iloc[0]['images_id'])"
   ]
  },
  {
   "cell_type": "code",
   "execution_count": 185,
   "metadata": {},
   "outputs": [
    {
     "data": {
      "text/html": [
       "\n",
       "    <div>\n",
       "        <style>\n",
       "            /* Turns off some styling */\n",
       "            progress {\n",
       "                /* gets rid of default border in Firefox and Opera. */\n",
       "                border: none;\n",
       "                /* Needs to be in here for Safari polyfill so background images work as expected. */\n",
       "                background-size: auto;\n",
       "            }\n",
       "            .progress-bar-interrupted, .progress-bar-interrupted::-webkit-progress-bar {\n",
       "                background: #F44336;\n",
       "            }\n",
       "        </style>\n",
       "      <progress value='12567' class='' max='12567', style='width:300px; height:20px; vertical-align: middle;'></progress>\n",
       "      100.00% [12567/12567 53:01<00:00]\n",
       "    </div>\n",
       "    "
      ],
      "text/plain": [
       "<IPython.core.display.HTML object>"
      ]
     },
     "metadata": {},
     "output_type": "display_data"
    },
    {
     "name": "stderr",
     "output_type": "stream",
     "text": [
      "/root/anaconda3/envs/pers_d_fastai/lib/python3.6/site-packages/PIL/TiffImagePlugin.py:747: UserWarning: Possibly corrupt EXIF data.  Expecting to read 19660800 bytes but only got 0. Skipping tag 0\n",
      "  \" Skipping tag %s\" % (size, len(data), tag))\n",
      "/root/anaconda3/envs/pers_d_fastai/lib/python3.6/site-packages/PIL/TiffImagePlugin.py:764: UserWarning: Corrupt EXIF data.  Expecting to read 12 bytes but only got 4. \n",
      "  warnings.warn(str(msg))\n"
     ]
    },
    {
     "name": "stdout",
     "output_type": "stream",
     "text": [
      "0.8734360968068298\n",
      "              precision    recall  f1-score   support\n",
      "\n",
      "           0       0.68      0.78      0.73      1031\n",
      "           1       0.97      0.86      0.91      1560\n",
      "           2       0.99      0.93      0.96      1116\n",
      "           3       0.95      0.87      0.91       666\n",
      "           4       0.85      0.98      0.91      4900\n",
      "           5       0.86      0.86      0.86       370\n",
      "           6       0.97      0.76      0.86      6220\n",
      "\n",
      "   micro avg       0.90      0.86      0.88     15863\n",
      "   macro avg       0.90      0.86      0.88     15863\n",
      "weighted avg       0.91      0.86      0.88     15863\n",
      " samples avg       0.89      0.87      0.87     15863\n",
      "\n"
     ]
    },
    {
     "name": "stderr",
     "output_type": "stream",
     "text": [
      "/root/anaconda3/envs/pers_d_fastai/lib/python3.6/site-packages/sklearn/metrics/classification.py:1143: UndefinedMetricWarning: F-score is ill-defined and being set to 0.0 in samples with no predicted labels.\n",
      "  'precision', 'predicted', average, warn_for)\n",
      "/root/anaconda3/envs/pers_d_fastai/lib/python3.6/site-packages/sklearn/metrics/classification.py:1143: UndefinedMetricWarning: Precision and F-score are ill-defined and being set to 0.0 in samples with no predicted labels.\n",
      "  'precision', 'predicted', average, warn_for)\n"
     ]
    }
   ],
   "source": [
    "predict_evaluate(model, valid_df)"
   ]
  },
  {
   "cell_type": "markdown",
   "metadata": {},
   "source": [
    "### Try training some more on 299\n",
    "\n",
    "Increase the image size and continue training"
   ]
  },
  {
   "cell_type": "code",
   "execution_count": 186,
   "metadata": {},
   "outputs": [],
   "source": [
    "data_all = ImageList.from_csv(path = path,\n",
    "                          folder = 'data/moderation_images/all_images',\n",
    "                          csv_name='data/groundtruth_new_20180116_v2_train.csv').split_by_rand_pct(valid_pct=0.2,seed=1).label_from_df(label_delim=' ').transform(tfms=tfms, size=299).databunch()\n",
    "data_all.batch_size = 32\n",
    "\n"
   ]
  },
  {
   "cell_type": "code",
   "execution_count": 187,
   "metadata": {},
   "outputs": [],
   "source": [
    "learn = cnn_learner(data=data_all,\n",
    "                   base_arch=models.resnet50,\n",
    "                   pretrained=True,\n",
    "                   metrics=fbeta\n",
    "                  )"
   ]
  },
  {
   "cell_type": "code",
   "execution_count": null,
   "metadata": {},
   "outputs": [],
   "source": [
    "learn.load('resnet50a_256_ckpt_2')"
   ]
  },
  {
   "cell_type": "code",
   "execution_count": 189,
   "metadata": {},
   "outputs": [
    {
     "data": {
      "text/html": [
       "Total time: 07:00 <p><table border=\"1\" class=\"dataframe\">\n",
       "  <thead>\n",
       "    <tr style=\"text-align: left;\">\n",
       "      <th>epoch</th>\n",
       "      <th>train_loss</th>\n",
       "      <th>valid_loss</th>\n",
       "      <th>fbeta</th>\n",
       "      <th>time</th>\n",
       "    </tr>\n",
       "  </thead>\n",
       "  <tbody>\n",
       "    <tr>\n",
       "      <td>0</td>\n",
       "      <td>0.110939</td>\n",
       "      <td>0.094171</td>\n",
       "      <td>0.916318</td>\n",
       "      <td>07:00</td>\n",
       "    </tr>\n",
       "  </tbody>\n",
       "</table>"
      ],
      "text/plain": [
       "<IPython.core.display.HTML object>"
      ]
     },
     "metadata": {},
     "output_type": "display_data"
    }
   ],
   "source": [
    "learn.fit_one_cycle(cyc_len=1, max_lr=1e-03)"
   ]
  },
  {
   "cell_type": "code",
   "execution_count": 190,
   "metadata": {},
   "outputs": [
    {
     "data": {
      "text/html": [
       "Total time: 14:11 <p><table border=\"1\" class=\"dataframe\">\n",
       "  <thead>\n",
       "    <tr style=\"text-align: left;\">\n",
       "      <th>epoch</th>\n",
       "      <th>train_loss</th>\n",
       "      <th>valid_loss</th>\n",
       "      <th>fbeta</th>\n",
       "      <th>time</th>\n",
       "    </tr>\n",
       "  </thead>\n",
       "  <tbody>\n",
       "    <tr>\n",
       "      <td>0</td>\n",
       "      <td>0.107762</td>\n",
       "      <td>0.093482</td>\n",
       "      <td>0.919262</td>\n",
       "      <td>07:05</td>\n",
       "    </tr>\n",
       "    <tr>\n",
       "      <td>1</td>\n",
       "      <td>0.105855</td>\n",
       "      <td>0.091905</td>\n",
       "      <td>0.920877</td>\n",
       "      <td>07:05</td>\n",
       "    </tr>\n",
       "  </tbody>\n",
       "</table>"
      ],
      "text/plain": [
       "<IPython.core.display.HTML object>"
      ]
     },
     "metadata": {},
     "output_type": "display_data"
    }
   ],
   "source": [
    "learn.fit_one_cycle(cyc_len=2, max_lr=1e-03)"
   ]
  },
  {
   "cell_type": "code",
   "execution_count": 191,
   "metadata": {},
   "outputs": [
    {
     "name": "stdout",
     "output_type": "stream",
     "text": [
      "0.9038402195803288\n",
      "              precision    recall  f1-score   support\n",
      "\n",
      "           0       0.86      0.73      0.79       497\n",
      "           1       0.92      0.84      0.88       729\n",
      "           2       0.97      0.97      0.97       508\n",
      "           3       0.97      0.89      0.93       335\n",
      "           4       0.90      0.94      0.92      2231\n",
      "           5       0.91      0.89      0.90       179\n",
      "           6       0.93      0.88      0.91      2960\n",
      "\n",
      "   micro avg       0.92      0.89      0.91      7439\n",
      "   macro avg       0.92      0.88      0.90      7439\n",
      "weighted avg       0.92      0.89      0.91      7439\n",
      " samples avg       0.92      0.90      0.90      7439\n",
      "\n"
     ]
    },
    {
     "name": "stderr",
     "output_type": "stream",
     "text": [
      "/root/anaconda3/envs/pers_d_fastai/lib/python3.6/site-packages/sklearn/metrics/classification.py:1143: UndefinedMetricWarning: F-score is ill-defined and being set to 0.0 in samples with no predicted labels.\n",
      "  'precision', 'predicted', average, warn_for)\n",
      "/root/anaconda3/envs/pers_d_fastai/lib/python3.6/site-packages/sklearn/metrics/classification.py:1143: UndefinedMetricWarning: Precision and F-score are ill-defined and being set to 0.0 in samples with no predicted labels.\n",
      "  'precision', 'predicted', average, warn_for)\n"
     ]
    }
   ],
   "source": [
    "preds,y = learn.get_preds(DatasetType.Valid, with_loss=False)\n",
    "preds_w_thres = [[1.0 if v>=0.5 else 0.0 for v in pred] for pred in preds]\n",
    "val_y_ = y\n",
    "print(f1_score(np.array(val_y_), np.array(preds_w_thres), average='samples'))\n",
    "print(classification_report(np.array(val_y_), np.array(preds_w_thres)))"
   ]
  },
  {
   "cell_type": "code",
   "execution_count": 192,
   "metadata": {},
   "outputs": [],
   "source": [
    "learn.save('resnet50a_256_ckpt_3')"
   ]
  },
  {
   "cell_type": "code",
   "execution_count": 193,
   "metadata": {},
   "outputs": [],
   "source": [
    "torch.save(learn.model.state_dict(), open('../models/resnet50a_256_ckpt_3_sd.model', 'wb'))"
   ]
  },
  {
   "cell_type": "code",
   "execution_count": 194,
   "metadata": {},
   "outputs": [
    {
     "data": {
      "text/html": [
       "Total time: 13:56 <p><table border=\"1\" class=\"dataframe\">\n",
       "  <thead>\n",
       "    <tr style=\"text-align: left;\">\n",
       "      <th>epoch</th>\n",
       "      <th>train_loss</th>\n",
       "      <th>valid_loss</th>\n",
       "      <th>fbeta</th>\n",
       "      <th>time</th>\n",
       "    </tr>\n",
       "  </thead>\n",
       "  <tbody>\n",
       "    <tr>\n",
       "      <td>0</td>\n",
       "      <td>0.104993</td>\n",
       "      <td>0.090865</td>\n",
       "      <td>0.923354</td>\n",
       "      <td>06:59</td>\n",
       "    </tr>\n",
       "    <tr>\n",
       "      <td>1</td>\n",
       "      <td>0.103737</td>\n",
       "      <td>0.090556</td>\n",
       "      <td>0.924214</td>\n",
       "      <td>06:57</td>\n",
       "    </tr>\n",
       "  </tbody>\n",
       "</table>"
      ],
      "text/plain": [
       "<IPython.core.display.HTML object>"
      ]
     },
     "metadata": {},
     "output_type": "display_data"
    }
   ],
   "source": [
    "learn.fit_one_cycle(cyc_len=2, max_lr=1e-03)"
   ]
  },
  {
   "cell_type": "code",
   "execution_count": 195,
   "metadata": {},
   "outputs": [
    {
     "name": "stdout",
     "output_type": "stream",
     "text": [
      "0.9069041122588191\n",
      "              precision    recall  f1-score   support\n",
      "\n",
      "           0       0.88      0.71      0.78       497\n",
      "           1       0.94      0.84      0.89       729\n",
      "           2       0.97      0.97      0.97       508\n",
      "           3       0.96      0.89      0.93       335\n",
      "           4       0.90      0.95      0.93      2231\n",
      "           5       0.91      0.89      0.90       179\n",
      "           6       0.94      0.87      0.91      2960\n",
      "\n",
      "   micro avg       0.92      0.89      0.91      7439\n",
      "   macro avg       0.93      0.88      0.90      7439\n",
      "weighted avg       0.93      0.89      0.91      7439\n",
      " samples avg       0.92      0.91      0.91      7439\n",
      "\n"
     ]
    }
   ],
   "source": [
    "preds,y = learn.get_preds(DatasetType.Valid, with_loss=False)\n",
    "preds_w_thres = [[1.0 if v>=0.5 else 0.0 for v in pred] for pred in preds]\n",
    "val_y_ = y\n",
    "print(f1_score(np.array(val_y_), np.array(preds_w_thres), average='samples'))\n",
    "print(classification_report(np.array(val_y_), np.array(preds_w_thres)))"
   ]
  },
  {
   "cell_type": "code",
   "execution_count": 196,
   "metadata": {},
   "outputs": [],
   "source": [
    "learn.save('resnet50a_256_ckpt_4')"
   ]
  },
  {
   "cell_type": "code",
   "execution_count": 197,
   "metadata": {},
   "outputs": [],
   "source": [
    "torch.save(learn.model.state_dict(), open('../models/resnet50a_256_ckpt_4_sd.model', 'wb'))"
   ]
  },
  {
   "cell_type": "markdown",
   "metadata": {},
   "source": [
    "### Reduce size to 224"
   ]
  },
  {
   "cell_type": "code",
   "execution_count": 198,
   "metadata": {},
   "outputs": [],
   "source": [
    "data_all = ImageList.from_csv(path = path,\n",
    "                          folder = 'data/moderation_images/all_images',\n",
    "                          csv_name='data/groundtruth_new_20180116_v2_train.csv').split_by_rand_pct(valid_pct=0.2,seed=1).label_from_df(label_delim=' ').transform(tfms=tfms, size=224).databunch()\n",
    "data_all.batch_size = 32\n"
   ]
  },
  {
   "cell_type": "code",
   "execution_count": 199,
   "metadata": {},
   "outputs": [],
   "source": [
    "learn.data = data_all"
   ]
  },
  {
   "cell_type": "code",
   "execution_count": 200,
   "metadata": {},
   "outputs": [
    {
     "data": {
      "text/html": [
       "Total time: 12:38 <p><table border=\"1\" class=\"dataframe\">\n",
       "  <thead>\n",
       "    <tr style=\"text-align: left;\">\n",
       "      <th>epoch</th>\n",
       "      <th>train_loss</th>\n",
       "      <th>valid_loss</th>\n",
       "      <th>fbeta</th>\n",
       "      <th>time</th>\n",
       "    </tr>\n",
       "  </thead>\n",
       "  <tbody>\n",
       "    <tr>\n",
       "      <td>0</td>\n",
       "      <td>0.122762</td>\n",
       "      <td>0.101116</td>\n",
       "      <td>0.912228</td>\n",
       "      <td>06:19</td>\n",
       "    </tr>\n",
       "    <tr>\n",
       "      <td>1</td>\n",
       "      <td>0.110876</td>\n",
       "      <td>0.098952</td>\n",
       "      <td>0.915111</td>\n",
       "      <td>06:18</td>\n",
       "    </tr>\n",
       "  </tbody>\n",
       "</table>"
      ],
      "text/plain": [
       "<IPython.core.display.HTML object>"
      ]
     },
     "metadata": {},
     "output_type": "display_data"
    }
   ],
   "source": [
    "learn.fit_one_cycle(cyc_len=2, max_lr=1e-03)"
   ]
  },
  {
   "cell_type": "markdown",
   "metadata": {},
   "source": [
    "Reverting to previous checkpoint since reducing size to 224 worsens the result"
   ]
  },
  {
   "cell_type": "markdown",
   "metadata": {},
   "source": [
    "### Unfreeze and train on checkpoint 4\n",
    "\n",
    "Fine tune the resnet layers. Use differntial lerning rate for different sections"
   ]
  },
  {
   "cell_type": "code",
   "execution_count": 201,
   "metadata": {},
   "outputs": [],
   "source": [
    "data_all = ImageList.from_csv(path = path,\n",
    "                          folder = 'data/moderation_images/all_images',\n",
    "                          csv_name='data/groundtruth_new_20180116_v2_train.csv').split_by_rand_pct(valid_pct=0.2,seed=1).label_from_df(label_delim=' ').transform(tfms=tfms, size=299).databunch()\n",
    "data_all.batch_size = 32\n"
   ]
  },
  {
   "cell_type": "code",
   "execution_count": 202,
   "metadata": {},
   "outputs": [],
   "source": [
    "learn = cnn_learner(data=data_all,\n",
    "                   base_arch=models.resnet50,\n",
    "                   pretrained=True,\n",
    "                   metrics=fbeta\n",
    "                  )"
   ]
  },
  {
   "cell_type": "code",
   "execution_count": null,
   "metadata": {},
   "outputs": [],
   "source": [
    "learn.load('resnet50a_256_ckpt_4')"
   ]
  },
  {
   "cell_type": "code",
   "execution_count": 204,
   "metadata": {},
   "outputs": [],
   "source": [
    "learn.unfreeze()"
   ]
  },
  {
   "cell_type": "code",
   "execution_count": 205,
   "metadata": {},
   "outputs": [
    {
     "data": {
      "text/html": [
       "Total time: 14:33 <p><table border=\"1\" class=\"dataframe\">\n",
       "  <thead>\n",
       "    <tr style=\"text-align: left;\">\n",
       "      <th>epoch</th>\n",
       "      <th>train_loss</th>\n",
       "      <th>valid_loss</th>\n",
       "      <th>fbeta</th>\n",
       "      <th>time</th>\n",
       "    </tr>\n",
       "  </thead>\n",
       "  <tbody>\n",
       "    <tr>\n",
       "      <td>0</td>\n",
       "      <td>0.112379</td>\n",
       "      <td>0.103342</td>\n",
       "      <td>0.917997</td>\n",
       "      <td>07:13</td>\n",
       "    </tr>\n",
       "    <tr>\n",
       "      <td>1</td>\n",
       "      <td>0.105180</td>\n",
       "      <td>0.088884</td>\n",
       "      <td>0.924960</td>\n",
       "      <td>07:20</td>\n",
       "    </tr>\n",
       "  </tbody>\n",
       "</table>"
      ],
      "text/plain": [
       "<IPython.core.display.HTML object>"
      ]
     },
     "metadata": {},
     "output_type": "display_data"
    }
   ],
   "source": [
    "lr=np.array([1e-5,1e-4,1e-3])\n",
    "learn.fit_one_cycle(cyc_len=2, max_lr=lr)"
   ]
  },
  {
   "cell_type": "code",
   "execution_count": 206,
   "metadata": {},
   "outputs": [
    {
     "name": "stdout",
     "output_type": "stream",
     "text": [
      "0.9089821672188657\n",
      "              precision    recall  f1-score   support\n",
      "\n",
      "           0       0.88      0.72      0.79       497\n",
      "           1       0.95      0.82      0.88       729\n",
      "           2       0.96      0.98      0.97       508\n",
      "           3       0.96      0.90      0.93       335\n",
      "           4       0.89      0.96      0.93      2231\n",
      "           5       0.94      0.85      0.89       179\n",
      "           6       0.95      0.87      0.91      2960\n",
      "\n",
      "   micro avg       0.93      0.89      0.91      7439\n",
      "   macro avg       0.93      0.87      0.90      7439\n",
      "weighted avg       0.93      0.89      0.91      7439\n",
      " samples avg       0.92      0.91      0.91      7439\n",
      "\n"
     ]
    },
    {
     "name": "stderr",
     "output_type": "stream",
     "text": [
      "/root/anaconda3/envs/pers_d_fastai/lib/python3.6/site-packages/sklearn/metrics/classification.py:1143: UndefinedMetricWarning: F-score is ill-defined and being set to 0.0 in samples with no predicted labels.\n",
      "  'precision', 'predicted', average, warn_for)\n",
      "/root/anaconda3/envs/pers_d_fastai/lib/python3.6/site-packages/sklearn/metrics/classification.py:1143: UndefinedMetricWarning: Precision and F-score are ill-defined and being set to 0.0 in samples with no predicted labels.\n",
      "  'precision', 'predicted', average, warn_for)\n"
     ]
    }
   ],
   "source": [
    "preds,y = learn.get_preds(DatasetType.Valid, with_loss=False)\n",
    "preds_w_thres = [[1.0 if v>=0.5 else 0.0 for v in pred] for pred in preds]\n",
    "val_y_ = y\n",
    "print(f1_score(np.array(val_y_), np.array(preds_w_thres), average='samples'))\n",
    "print(classification_report(np.array(val_y_), np.array(preds_w_thres)))"
   ]
  },
  {
   "cell_type": "code",
   "execution_count": 207,
   "metadata": {},
   "outputs": [],
   "source": [
    "learn.save('resnet50a_256_ckpt_5')"
   ]
  },
  {
   "cell_type": "code",
   "execution_count": 208,
   "metadata": {},
   "outputs": [],
   "source": [
    "torch.save(learn.model.state_dict(), open('../models/resnet50a_256_ckpt_5_sd.model', 'wb'))"
   ]
  },
  {
   "cell_type": "markdown",
   "metadata": {},
   "source": [
    "Freeze the resnet layers and train the last layers some more"
   ]
  },
  {
   "cell_type": "code",
   "execution_count": 209,
   "metadata": {},
   "outputs": [],
   "source": [
    "learn.freeze()"
   ]
  },
  {
   "cell_type": "code",
   "execution_count": 210,
   "metadata": {},
   "outputs": [
    {
     "data": {
      "text/html": [
       "Total time: 14:00 <p><table border=\"1\" class=\"dataframe\">\n",
       "  <thead>\n",
       "    <tr style=\"text-align: left;\">\n",
       "      <th>epoch</th>\n",
       "      <th>train_loss</th>\n",
       "      <th>valid_loss</th>\n",
       "      <th>fbeta</th>\n",
       "      <th>time</th>\n",
       "    </tr>\n",
       "  </thead>\n",
       "  <tbody>\n",
       "    <tr>\n",
       "      <td>0</td>\n",
       "      <td>0.098945</td>\n",
       "      <td>0.090557</td>\n",
       "      <td>0.923552</td>\n",
       "      <td>07:03</td>\n",
       "    </tr>\n",
       "    <tr>\n",
       "      <td>1</td>\n",
       "      <td>0.103595</td>\n",
       "      <td>0.088427</td>\n",
       "      <td>0.926253</td>\n",
       "      <td>06:56</td>\n",
       "    </tr>\n",
       "  </tbody>\n",
       "</table>"
      ],
      "text/plain": [
       "<IPython.core.display.HTML object>"
      ]
     },
     "metadata": {},
     "output_type": "display_data"
    }
   ],
   "source": [
    "learn.fit_one_cycle(cyc_len=2, max_lr=1e-03)"
   ]
  },
  {
   "cell_type": "code",
   "execution_count": 211,
   "metadata": {},
   "outputs": [],
   "source": [
    "learn.save('resnet50a_256_ckpt_6')"
   ]
  },
  {
   "cell_type": "code",
   "execution_count": 212,
   "metadata": {},
   "outputs": [],
   "source": [
    "torch.save(learn.model.state_dict(), open('../models/resnet50a_256_ckpt_6_sd.model', 'wb'))"
   ]
  },
  {
   "cell_type": "code",
   "execution_count": 213,
   "metadata": {},
   "outputs": [
    {
     "name": "stdout",
     "output_type": "stream",
     "text": [
      "0.9058102709023582\n",
      "              precision    recall  f1-score   support\n",
      "\n",
      "           0       0.89      0.73      0.80       497\n",
      "           1       0.95      0.83      0.88       729\n",
      "           2       0.97      0.97      0.97       508\n",
      "           3       0.96      0.90      0.93       335\n",
      "           4       0.89      0.96      0.92      2231\n",
      "           5       0.93      0.87      0.90       179\n",
      "           6       0.96      0.86      0.90      2960\n",
      "\n",
      "   micro avg       0.93      0.89      0.91      7439\n",
      "   macro avg       0.93      0.87      0.90      7439\n",
      "weighted avg       0.93      0.89      0.91      7439\n",
      " samples avg       0.92      0.90      0.91      7439\n",
      "\n"
     ]
    }
   ],
   "source": [
    "preds,y = learn.get_preds(DatasetType.Valid, with_loss=False)\n",
    "preds_w_thres = [[1.0 if v>=0.5 else 0.0 for v in pred] for pred in preds]\n",
    "val_y_ = y\n",
    "print(f1_score(np.array(val_y_), np.array(preds_w_thres), average='samples'))\n",
    "print(classification_report(np.array(val_y_), np.array(preds_w_thres)))"
   ]
  },
  {
   "cell_type": "code",
   "execution_count": 217,
   "metadata": {},
   "outputs": [],
   "source": [
    "holdout = ImageList.from_csv(path = path,\n",
    "                          folder = 'data/moderation_images/all_images',\n",
    "                          csv_name='data/groundtruth_new_20180116_v2_val.csv').split_none().label_from_df(label_delim=' ').transform(tfms=[], size=299,resize_method=ResizeMethod.SQUISH).databunch()\n"
   ]
  },
  {
   "cell_type": "code",
   "execution_count": 218,
   "metadata": {},
   "outputs": [],
   "source": [
    "learn.data.valid_dl = holdout.train_dl"
   ]
  },
  {
   "cell_type": "code",
   "execution_count": 219,
   "metadata": {},
   "outputs": [
    {
     "name": "stdout",
     "output_type": "stream",
     "text": [
      "0.9184146091472304\n",
      "              precision    recall  f1-score   support\n",
      "\n",
      "           0       0.79      0.73      0.76      1030\n",
      "           1       0.95      0.92      0.93      1557\n",
      "           2       0.99      0.97      0.98      1115\n",
      "           3       0.95      0.91      0.93       664\n",
      "           4       0.91      0.97      0.94      4893\n",
      "           5       0.92      0.83      0.87       367\n",
      "           6       0.96      0.87      0.91      6208\n",
      "\n",
      "   micro avg       0.93      0.91      0.92     15834\n",
      "   macro avg       0.93      0.89      0.90     15834\n",
      "weighted avg       0.93      0.91      0.92     15834\n",
      " samples avg       0.93      0.92      0.92     15834\n",
      "\n"
     ]
    },
    {
     "name": "stderr",
     "output_type": "stream",
     "text": [
      "/root/anaconda3/envs/pers_d_fastai/lib/python3.6/site-packages/sklearn/metrics/classification.py:1143: UndefinedMetricWarning: F-score is ill-defined and being set to 0.0 in samples with no predicted labels.\n",
      "  'precision', 'predicted', average, warn_for)\n",
      "/root/anaconda3/envs/pers_d_fastai/lib/python3.6/site-packages/sklearn/metrics/classification.py:1143: UndefinedMetricWarning: Precision and F-score are ill-defined and being set to 0.0 in samples with no predicted labels.\n",
      "  'precision', 'predicted', average, warn_for)\n"
     ]
    }
   ],
   "source": [
    "preds,y = learn.get_preds(DatasetType.Valid, with_loss=False)\n",
    "preds_w_thres = [[1.0 if v>=0.5 else 0.0 for v in pred] for pred in preds]\n",
    "val_y_ = y\n",
    "print(f1_score(np.array(val_y_), np.array(preds_w_thres), average='samples'))\n",
    "print(classification_report(np.array(val_y_), np.array(preds_w_thres)))"
   ]
  },
  {
   "cell_type": "code",
   "execution_count": null,
   "metadata": {},
   "outputs": [],
   "source": []
  },
  {
   "cell_type": "markdown",
   "metadata": {},
   "source": [
    "### Check on the prediction pipeline code"
   ]
  },
  {
   "cell_type": "code",
   "execution_count": 224,
   "metadata": {},
   "outputs": [],
   "source": [
    "model = Model()\n",
    "model.load_state_dict(f='../models/resnet50a_256_ckpt_6_sd.model', map_location='cpu')\n",
    "model.set_eval()"
   ]
  },
  {
   "cell_type": "code",
   "execution_count": 225,
   "metadata": {},
   "outputs": [
    {
     "data": {
      "text/html": [
       "<div>\n",
       "<style scoped>\n",
       "    .dataframe tbody tr th:only-of-type {\n",
       "        vertical-align: middle;\n",
       "    }\n",
       "\n",
       "    .dataframe tbody tr th {\n",
       "        vertical-align: top;\n",
       "    }\n",
       "\n",
       "    .dataframe thead th {\n",
       "        text-align: right;\n",
       "    }\n",
       "</style>\n",
       "<table border=\"1\" class=\"dataframe\">\n",
       "  <thead>\n",
       "    <tr style=\"text-align: right;\">\n",
       "      <th></th>\n",
       "      <th>images_id</th>\n",
       "      <th>labels</th>\n",
       "    </tr>\n",
       "  </thead>\n",
       "  <tbody>\n",
       "    <tr>\n",
       "      <th>0</th>\n",
       "      <td>10034668.jpg</td>\n",
       "      <td>text</td>\n",
       "    </tr>\n",
       "    <tr>\n",
       "      <th>1</th>\n",
       "      <td>10038985.jpg</td>\n",
       "      <td>face text collaged</td>\n",
       "    </tr>\n",
       "    <tr>\n",
       "      <th>2</th>\n",
       "      <td>10081770.jpg</td>\n",
       "      <td>face text map</td>\n",
       "    </tr>\n",
       "    <tr>\n",
       "      <th>3</th>\n",
       "      <td>10084298.jpg</td>\n",
       "      <td>collaged</td>\n",
       "    </tr>\n",
       "    <tr>\n",
       "      <th>4</th>\n",
       "      <td>10086384.jpg</td>\n",
       "      <td>text</td>\n",
       "    </tr>\n",
       "  </tbody>\n",
       "</table>\n",
       "</div>"
      ],
      "text/plain": [
       "      images_id              labels\n",
       "0  10034668.jpg                text\n",
       "1  10038985.jpg  face text collaged\n",
       "2  10081770.jpg       face text map\n",
       "3  10084298.jpg            collaged\n",
       "4  10086384.jpg                text"
      ]
     },
     "execution_count": 225,
     "metadata": {},
     "output_type": "execute_result"
    }
   ],
   "source": [
    "valid_df = pd.read_csv('../data/groundtruth_new_20180116_v2_val.csv')\n",
    "valid_df.head()"
   ]
  },
  {
   "cell_type": "code",
   "execution_count": 226,
   "metadata": {},
   "outputs": [
    {
     "data": {
      "text/plain": [
       "(12567, 2)"
      ]
     },
     "execution_count": 226,
     "metadata": {},
     "output_type": "execute_result"
    }
   ],
   "source": [
    "valid_df.shape"
   ]
  },
  {
   "cell_type": "code",
   "execution_count": 229,
   "metadata": {},
   "outputs": [
    {
     "data": {
      "text/html": [
       "\n",
       "    <div>\n",
       "        <style>\n",
       "            /* Turns off some styling */\n",
       "            progress {\n",
       "                /* gets rid of default border in Firefox and Opera. */\n",
       "                border: none;\n",
       "                /* Needs to be in here for Safari polyfill so background images work as expected. */\n",
       "                background-size: auto;\n",
       "            }\n",
       "            .progress-bar-interrupted, .progress-bar-interrupted::-webkit-progress-bar {\n",
       "                background: #F44336;\n",
       "            }\n",
       "        </style>\n",
       "      <progress value='10' class='' max='10', style='width:300px; height:20px; vertical-align: middle;'></progress>\n",
       "      100.00% [10/10 00:02<00:00]\n",
       "    </div>\n",
       "    "
      ],
      "text/plain": [
       "<IPython.core.display.HTML object>"
      ]
     },
     "metadata": {},
     "output_type": "display_data"
    },
    {
     "name": "stdout",
     "output_type": "stream",
     "text": [
      "0.9333333333333332\n",
      "              precision    recall  f1-score   support\n",
      "\n",
      "           0       0.80      1.00      0.89         4\n",
      "           1       1.00      1.00      1.00         2\n",
      "           2       0.00      0.00      0.00         0\n",
      "           3       1.00      1.00      1.00         1\n",
      "           4       1.00      1.00      1.00         1\n",
      "           5       1.00      1.00      1.00         1\n",
      "           6       0.88      1.00      0.93         7\n",
      "\n",
      "   micro avg       0.89      1.00      0.94        16\n",
      "   macro avg       0.81      0.86      0.83        16\n",
      "weighted avg       0.90      1.00      0.94        16\n",
      " samples avg       0.90      1.00      0.93        16\n",
      "\n"
     ]
    }
   ],
   "source": [
    "imgs_path = Path(\"data/moderation_images/all_images\")\n",
    "\n",
    "from PIL import Image\n",
    "from  torchvision import transforms\n",
    "from fastprogress import master_bar, progress_bar\n",
    "\n",
    "def predict_image(model, im_path):\n",
    "    im = Image.open(path/imgs_path/im_path)\n",
    "    im = im.resize((299,299)).convert('RGB')\n",
    "    im = transforms.ToTensor()(im)\n",
    "    pred = model.predict(im)[1] # the confidences\n",
    "    pred = pred.detach().numpy()[0]\n",
    "    return pred\n",
    "    \n",
    "def predict_evaluate(model, df):\n",
    "    \"\"\"\n",
    "    Predict images in df and evaluate against the true labels in df\n",
    "    \"\"\"\n",
    "    preds = [predict_image(model, im_path) for im_path in progress_bar(df.images_id)] \n",
    "    preds_w_thres = [[1.0 if v>=0.5 else 0.0 for v in pred] for pred in preds]\n",
    "    \n",
    "    labels_ord = [\"collaged\", \"face\", \"floorplan\", \"map\", \"property\", \"siteplan\", \"text\"]\n",
    "    def get_one_hot(l):\n",
    "        l = l.split(\" \")\n",
    "        return [1.0 if tl in l else 0.0 for tl in labels_ord] \n",
    "    val_y = df.labels.map(get_one_hot)\n",
    "    val_y = [[float(v) for v in t] for t in val_y]\n",
    "    print(f1_score(np.array(val_y), np.array(preds_w_thres), average='samples'))\n",
    "    print(classification_report(np.array(val_y), np.array(preds_w_thres)))\n",
    "    \n",
    "\n",
    "predict_evaluate(model, valid_df.iloc[0:10])\n",
    "# Image.open(path/imgs_path/valid_df.iloc[0]['images_id'])"
   ]
  },
  {
   "cell_type": "code",
   "execution_count": 230,
   "metadata": {},
   "outputs": [
    {
     "data": {
      "text/html": [
       "\n",
       "    <div>\n",
       "        <style>\n",
       "            /* Turns off some styling */\n",
       "            progress {\n",
       "                /* gets rid of default border in Firefox and Opera. */\n",
       "                border: none;\n",
       "                /* Needs to be in here for Safari polyfill so background images work as expected. */\n",
       "                background-size: auto;\n",
       "            }\n",
       "            .progress-bar-interrupted, .progress-bar-interrupted::-webkit-progress-bar {\n",
       "                background: #F44336;\n",
       "            }\n",
       "        </style>\n",
       "      <progress value='12567' class='' max='12567', style='width:300px; height:20px; vertical-align: middle;'></progress>\n",
       "      100.00% [12567/12567 1:00:12<00:00]\n",
       "    </div>\n",
       "    "
      ],
      "text/plain": [
       "<IPython.core.display.HTML object>"
      ]
     },
     "metadata": {},
     "output_type": "display_data"
    },
    {
     "name": "stderr",
     "output_type": "stream",
     "text": [
      "/root/anaconda3/envs/pers_d_fastai/lib/python3.6/site-packages/PIL/TiffImagePlugin.py:747: UserWarning: Possibly corrupt EXIF data.  Expecting to read 19660800 bytes but only got 0. Skipping tag 0\n",
      "  \" Skipping tag %s\" % (size, len(data), tag))\n",
      "/root/anaconda3/envs/pers_d_fastai/lib/python3.6/site-packages/PIL/TiffImagePlugin.py:764: UserWarning: Corrupt EXIF data.  Expecting to read 12 bytes but only got 4. \n",
      "  warnings.warn(str(msg))\n"
     ]
    },
    {
     "name": "stdout",
     "output_type": "stream",
     "text": [
      "0.9135269242574088\n",
      "              precision    recall  f1-score   support\n",
      "\n",
      "           0       0.78      0.73      0.76      1031\n",
      "           1       0.95      0.91      0.93      1560\n",
      "           2       0.99      0.97      0.98      1116\n",
      "           3       0.96      0.90      0.92       666\n",
      "           4       0.90      0.97      0.94      4900\n",
      "           5       0.93      0.83      0.88       370\n",
      "           6       0.96      0.86      0.91      6220\n",
      "\n",
      "   micro avg       0.93      0.90      0.91     15863\n",
      "   macro avg       0.92      0.88      0.90     15863\n",
      "weighted avg       0.93      0.90      0.91     15863\n",
      " samples avg       0.93      0.91      0.91     15863\n",
      "\n"
     ]
    }
   ],
   "source": [
    "predict_evaluate(model, valid_df)"
   ]
  },
  {
   "cell_type": "code",
   "execution_count": 231,
   "metadata": {},
   "outputs": [
    {
     "data": {
      "text/plain": [
       "{'collaged': 0,\n",
       " 'face': 1,\n",
       " 'floorplan': 2,\n",
       " 'map': 3,\n",
       " 'property': 4,\n",
       " 'siteplan': 5,\n",
       " 'text': 6}"
      ]
     },
     "execution_count": 231,
     "metadata": {},
     "output_type": "execute_result"
    }
   ],
   "source": [
    "data_all.train_ds.y.c2i"
   ]
  },
  {
   "cell_type": "markdown",
   "metadata": {},
   "source": [
    "## Precision Recall curve"
   ]
  },
  {
   "cell_type": "code",
   "execution_count": 232,
   "metadata": {},
   "outputs": [],
   "source": [
    "def predict_evaluate(model, df):\n",
    "    \"\"\"\n",
    "    Predict images in df and evaluate against the true labels in df\n",
    "    \"\"\"\n",
    "    preds = [predict_image(model, im_path) for im_path in progress_bar(df.images_id)] \n",
    "    preds_w_thres = [[1.0 if v>=0.5 else 0.0 for v in pred] for pred in preds]\n",
    "    \n",
    "    labels_ord = [\"collaged\", \"face\", \"floorplan\", \"map\", \"property\", \"siteplan\", \"text\"]\n",
    "    def get_one_hot(l):\n",
    "        l = l.split(\" \")\n",
    "        return [1.0 if tl in l else 0.0 for tl in labels_ord] \n",
    "    val_y = df.labels.map(get_one_hot)\n",
    "    val_y = [[float(v) for v in t] for t in val_y]\n",
    "    print(f1_score(np.array(val_y), np.array(preds_w_thres), average='samples'))\n",
    "    print(classification_report(np.array(val_y), np.array(preds_w_thres)))\n",
    "    return preds\n",
    "    "
   ]
  },
  {
   "cell_type": "code",
   "execution_count": null,
   "metadata": {},
   "outputs": [],
   "source": [
    "holdout_preds = predict_evaluate(model, valid_df)"
   ]
  },
  {
   "cell_type": "code",
   "execution_count": 267,
   "metadata": {},
   "outputs": [],
   "source": [
    "from sklearn.metrics import precision_recall_curve\n",
    "def pr_threshold(label, y_true, y_scores):\n",
    "    precisions, recalls, thresholds = precision_recall_curve(y_true, y_scores)\n",
    "    plt.figure(figsize=(8, 8))\n",
    "    plt.title(\"Precision and Recall Scores vs threshold (class = %s)\" % (label))\n",
    "\n",
    "    plt.plot(thresholds, precisions[:-1], \"b--\", label=\"Precision\")\n",
    "    plt.plot(thresholds, recalls[:-1], \"g-\", label=\"Recall\")\n",
    "    pd.Series(thresholds).plot(kind='hist',secondary_y=True)\n",
    "    plt.ylabel(\"Score\")\n",
    "    plt.xlabel(\"Decision Threshold\")\n",
    "    plt.legend(loc='best')\n",
    "    \n",
    "    i = np.arange(len(thresholds)) \n",
    "    precisions = precisions[:-1]\n",
    "    recalls = recalls[:-1]\n",
    "    pr = pd.DataFrame({'f1' : pd.Series(2 * (precisions * recalls) / (precisions + recalls), index=i), 'threshold' : pd.Series(thresholds, index=i)})\n",
    "    pr_t = pr.iloc[(pr.f1-0).abs().argsort()[::-1][:1]]\n",
    "    \n",
    "    return list(pr_t['threshold'])[0]\n",
    "\n",
    "def generate_pr_curve(preds, df, label='collaged'):\n",
    "    c2i = {'collaged': 0,\n",
    "             'face': 1,\n",
    "             'floorplan': 2,\n",
    "             'map': 3,\n",
    "             'property': 4,\n",
    "             'siteplan': 5,\n",
    "             'text': 6}\n",
    "    i2c = {v:k for k,v in c2i.items()}\n",
    "    preds_l = [pred[c2i[label]] for pred in preds]\n",
    "    y_true = df.labels.map(lambda x: 1 if label in x.split() else 0)\n",
    "    return pr_threshold(label, y_true, preds_l)"
   ]
  },
  {
   "cell_type": "code",
   "execution_count": 268,
   "metadata": {},
   "outputs": [
    {
     "data": {
      "image/png": "[encoded data removed]",
      "text/plain": [
       "<Figure size 576x576 with 2 Axes>"
      ]
     },
     "metadata": {
      "needs_background": "light"
     },
     "output_type": "display_data"
    }
   ],
   "source": [
    "th = generate_pr_curve(holdout_preds, valid_df.copy(), label='collaged')"
   ]
  },
  {
   "cell_type": "code",
   "execution_count": 269,
   "metadata": {},
   "outputs": [
    {
     "data": {
      "image/png": "[encoded data removed]",
      "text/plain": [
       "<Figure size 576x576 with 2 Axes>"
      ]
     },
     "metadata": {
      "needs_background": "light"
     },
     "output_type": "display_data"
    },
    {
     "data": {
      "image/png": "[encoded data removed]",
      "text/plain": [
       "<Figure size 576x576 with 2 Axes>"
      ]
     },
     "metadata": {
      "needs_background": "light"
     },
     "output_type": "display_data"
    },
    {
     "data": {
      "image/png": "[encoded data removed]",
      "text/plain": [
       "<Figure size 576x576 with 2 Axes>"
      ]
     },
     "metadata": {
      "needs_background": "light"
     },
     "output_type": "display_data"
    },
    {
     "data": {
      "image/png": "[encoded data removed]",
      "text/plain": [
       "<Figure size 576x576 with 2 Axes>"
      ]
     },
     "metadata": {
      "needs_background": "light"
     },
     "output_type": "display_data"
    },
    {
     "data": {
      "image/png": "[encoded data removed]",
      "text/plain": [
       "<Figure size 576x576 with 2 Axes>"
      ]
     },
     "metadata": {
      "needs_background": "light"
     },
     "output_type": "display_data"
    },
    {
     "data": {
      "image/png": "[encoded data removed]",
      "text/plain": [
       "<Figure size 576x576 with 2 Axes>"
      ]
     },
     "metadata": {
      "needs_background": "light"
     },
     "output_type": "display_data"
    },
    {
     "data": {
      "image/png": "[encoded data removed]",
      "text/plain": [
       "<Figure size 576x576 with 2 Axes>"
      ]
     },
     "metadata": {
      "needs_background": "light"
     },
     "output_type": "display_data"
    }
   ],
   "source": [
    "threshs = [generate_pr_curve(holdout_preds, valid_df.copy(), label=label) for label in data_all.train_ds.y.c2i.keys()]"
   ]
  },
  {
   "cell_type": "code",
   "execution_count": 245,
   "metadata": {},
   "outputs": [
    {
     "data": {
      "text/plain": [
       "[0.43360719084739685,\n",
       " 0.3979600667953491,\n",
       " 0.5112483501434326,\n",
       " 0.5055694580078125,\n",
       " 0.6115564703941345,\n",
       " 0.3685322105884552,\n",
       " 0.35070785880088806]"
      ]
     },
     "execution_count": 245,
     "metadata": {},
     "output_type": "execute_result"
    }
   ],
   "source": [
    "threshs"
   ]
  },
  {
   "cell_type": "code",
   "execution_count": 246,
   "metadata": {},
   "outputs": [
    {
     "data": {
      "text/plain": [
       "{'collaged': 0,\n",
       " 'face': 1,\n",
       " 'floorplan': 2,\n",
       " 'map': 3,\n",
       " 'property': 4,\n",
       " 'siteplan': 5,\n",
       " 'text': 6}"
      ]
     },
     "execution_count": 246,
     "metadata": {},
     "output_type": "execute_result"
    }
   ],
   "source": [
    "data_all.train_ds.y.c2i"
   ]
  },
  {
   "cell_type": "code",
   "execution_count": 288,
   "metadata": {},
   "outputs": [],
   "source": [
    "thresholds = {'face': [0.39, 0.5],\n",
    "              'property': [0.5, 0.6],\n",
    "              'text': [0.35, 0.4],\n",
    "              'floorplan': [0.50, 0.50],\n",
    "              'siteplan': [0.36, 0.55],\n",
    "              'collaged': [0.43, 0.7],\n",
    "              'map': [0.5, 0.6]\n",
    "              }"
   ]
  },
  {
   "cell_type": "markdown",
   "metadata": {},
   "source": [
    "### Evaluate performance by threshold min"
   ]
  },
  {
   "cell_type": "code",
   "execution_count": 272,
   "metadata": {},
   "outputs": [],
   "source": [
    "def get_pred_by_thresh(pred):\n",
    "    c2i = {'collaged': 0,\n",
    "             'face': 1,\n",
    "             'floorplan': 2,\n",
    "             'map': 3,\n",
    "             'property': 4,\n",
    "             'siteplan': 5,\n",
    "             'text': 6}\n",
    "    i2c = {v:k for k,v in c2i.items()}\n",
    "    return [1 if v > thresholds[i2c[i]][0] else 0 for i,v in enumerate(pred)]"
   ]
  },
  {
   "cell_type": "code",
   "execution_count": 287,
   "metadata": {},
   "outputs": [
    {
     "name": "stdout",
     "output_type": "stream",
     "text": [
      "0.9209238481737885\n",
      "              precision    recall  f1-score   support\n",
      "\n",
      "           0       0.76      0.77      0.77      1031\n",
      "           1       0.94      0.93      0.93      1560\n",
      "           2       0.99      0.97      0.98      1116\n",
      "           3       0.96      0.90      0.92       666\n",
      "           4       0.90      0.97      0.94      4900\n",
      "           5       0.90      0.86      0.88       370\n",
      "           6       0.93      0.90      0.91      6220\n",
      "\n",
      "   micro avg       0.91      0.92      0.92     15863\n",
      "   macro avg       0.91      0.90      0.90     15863\n",
      "weighted avg       0.92      0.92      0.92     15863\n",
      " samples avg       0.92      0.93      0.92     15863\n",
      "\n"
     ]
    }
   ],
   "source": [
    "preds_w_thres = [get_pred_by_thresh(pred) for pred in holdout_preds]\n",
    "\n",
    "labels_ord = [\"collaged\", \"face\", \"floorplan\", \"map\", \"property\", \"siteplan\", \"text\"]\n",
    "def get_one_hot(l):\n",
    "    l = l.split(\" \")\n",
    "    return [1.0 if tl in l else 0.0 for tl in labels_ord] \n",
    "val_y = valid_df.labels.map(get_one_hot)\n",
    "val_y = [[float(v) for v in t] for t in val_y]\n",
    "\n",
    "print(f1_score(np.array(val_y), np.array(preds_w_thres), average='samples'))\n",
    "print(classification_report(np.array(val_y), np.array(preds_w_thres)))"
   ]
  },
  {
   "cell_type": "code",
   "execution_count": null,
   "metadata": {},
   "outputs": [],
   "source": []
  }
 ],
 "metadata": {
  "kernelspec": {
   "display_name": "Python [conda env:.conda-pytorch_1]",
   "language": "python",
   "name": "conda-env-.conda-pytorch_1-py"
  },
  "language_info": {
   "codemirror_mode": {
    "name": "ipython",
    "version": 3
   },
   "file_extension": ".py",
   "mimetype": "text/x-python",
   "name": "python",
   "nbconvert_exporter": "python",
   "pygments_lexer": "ipython3",
   "version": "3.7.4"
  },
  "latex_envs": {
   "LaTeX_envs_menu_present": true,
   "autoclose": false,
   "autocomplete": true,
   "bibliofile": "biblio.bib",
   "cite_by": "apalike",
   "current_citInitial": 1,
   "eqLabelWithNumbers": true,
   "eqNumInitial": 1,
   "hotkeys": {
    "equation": "Ctrl-E",
    "itemize": "Ctrl-I"
   },
   "labels_anchors": false,
   "latex_user_defs": false,
   "report_style_numbering": false,
   "user_envs_cfg": false
  },
  "toc": {
   "base_numbering": 1,
   "nav_menu": {},
   "number_sections": true,
   "sideBar": true,
   "skip_h1_title": false,
   "title_cell": "Table of Contents",
   "title_sidebar": "Contents",
   "toc_cell": false,
   "toc_position": {},
   "toc_section_display": true,
   "toc_window_display": false
  }
 },
 "nbformat": 4,
 "nbformat_minor": 2
}